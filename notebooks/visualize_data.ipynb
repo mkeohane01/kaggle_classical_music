{
 "cells": [
  {
   "cell_type": "code",
   "execution_count": 54,
   "metadata": {},
   "outputs": [],
   "source": [
    "import numpy as np\n",
    "import pandas as pd\n",
    "import matplotlib.pyplot as plt\n",
    "import os\n",
    "from sklearn.model_selection import train_test_split\n",
    "import tqdm\n",
    "data_folder = \"../data/\""
   ]
  },
  {
   "cell_type": "markdown",
   "metadata": {},
   "source": [
    "## Loading Data"
   ]
  },
  {
   "cell_type": "code",
   "execution_count": 170,
   "metadata": {},
   "outputs": [
    {
     "name": "stdout",
     "output_type": "stream",
     "text": [
      "account.id           object\n",
      "price.level          object\n",
      "no.seats              int64\n",
      "marketing.source     object\n",
      "season               object\n",
      "location             object\n",
      "set                 float64\n",
      "multiple.tickets     object\n",
      "dtype: object\n",
      "account.id                  object\n",
      "shipping.zip.code           object\n",
      "billing.zip.code            object\n",
      "shipping.city               object\n",
      "billing.city                object\n",
      "relationship                object\n",
      "amount.donated.2013        float64\n",
      "amount.donated.lifetime    float64\n",
      "no.donations.lifetime        int64\n",
      "first.donated               object\n",
      "dtype: object\n",
      "account.id            object\n",
      "season                object\n",
      "package               object\n",
      "no.seats               int64\n",
      "location              object\n",
      "section               object\n",
      "price.level          float64\n",
      "subscription_tier    float64\n",
      "multiple.subs         object\n",
      "dtype: object\n"
     ]
    }
   ],
   "source": [
    "# load data from data/tickets_all.csv\n",
    "ticket_all_df = pd.read_csv(data_folder + 'tickets_all.csv')\n",
    "print(ticket_all_df.dtypes)\n",
    "\n",
    "# load data from data/account.csv\n",
    "account_df = pd.read_csv(data_folder + 'account.csv', encoding_errors='ignore')\n",
    "print(account_df.dtypes)\n",
    "\n",
    "# load data from data/subscriptions.csv\n",
    "subscriptions_df = pd.read_csv(data_folder + 'subscriptions.csv', encoding_errors='ignore')\n",
    "print(subscriptions_df.dtypes)\n",
    "# print(subscriptions_df.head())\n"
   ]
  },
  {
   "cell_type": "code",
   "execution_count": 171,
   "metadata": {},
   "outputs": [
    {
     "name": "stdout",
     "output_type": "stream",
     "text": [
      "        account.id  label\n",
      "0  001i000000NuRo3      0\n",
      "1  001i000000NuRxd      0\n",
      "2  001i000000NuQGN      0\n",
      "3  001i000000NuPfL      0\n",
      "4  001i000000NuQkP      0\n",
      "(6941, 2)\n",
      "                ID\n",
      "0  001i000000NuQ6Y\n",
      "1  001i000000NuQXz\n",
      "2  001i000000NuRDC\n",
      "3  001i000000NuQeg\n",
      "4  001i000000NuOQc\n",
      "(2975, 1)\n"
     ]
    }
   ],
   "source": [
    "train_df = pd.read_csv(data_folder + 'train.csv')\n",
    "print(train_df.head())\n",
    "print(train_df.shape)\n",
    "\n",
    "test_df = pd.read_csv(data_folder + 'test.csv')\n",
    "print(test_df.head())\n",
    "print(test_df.shape)"
   ]
  },
  {
   "cell_type": "code",
   "execution_count": 172,
   "metadata": {},
   "outputs": [
    {
     "name": "stdout",
     "output_type": "stream",
     "text": [
      "        account.id  price.level  no.seats      marketing.source  season   \n",
      "0  001i000000NuOP0          4.0         2                   NaN  2012.0  \\\n",
      "1  001i000000NuOYU          1.0         1                 Other  2013.0   \n",
      "2  001i000000NuRS9          4.0         2                   NaN  2011.0   \n",
      "3  001i000000NuRPj          3.0         1  Postcard or brochure  2013.0   \n",
      "4  001i000000NuRQ1          2.0         2                   NaN  2013.0   \n",
      "\n",
      "            location  set multiple.tickets  \n",
      "0      San Francisco  4.0               no  \n",
      "1    Berkeley Sunday  6.0               no  \n",
      "2     Family concert  3.0               no  \n",
      "3  Berkeley Saturday  2.0               no  \n",
      "4  Berkeley Saturday  1.0               no  \n",
      "(2808, 8)\n"
     ]
    }
   ],
   "source": [
    "\n",
    "\n",
    "# convert price.level to float skipping invalid data\n",
    "ticket_all_df['price.level'] = pd.to_numeric(ticket_all_df['price.level'], errors='coerce')\n",
    "ticket_all_df['price.level'] = ticket_all_df['price.level'].astype(float)\n",
    "# convert season to float (take fist number) eg 2016-2017 -> 2016\n",
    "ticket_all_df['season'] = ticket_all_df['season'].str[:4].astype(float)\n",
    "\n",
    "print(ticket_all_df.head())\n",
    "print(ticket_all_df.shape)\n"
   ]
  },
  {
   "cell_type": "code",
   "execution_count": 173,
   "metadata": {},
   "outputs": [
    {
     "name": "stdout",
     "output_type": "stream",
     "text": [
      "        account.id  amount.donated.2013  amount.donated.lifetime   \n",
      "0  001i000000LhSrQ                  0.0                      0.0  \\\n",
      "1  001i000000LhyPD                  0.0                    500.0   \n",
      "2  001i000000LhyPE                  0.0                    783.0   \n",
      "3  001i000000LhyPF               1500.0                  28435.0   \n",
      "4  001i000000LhyPG                300.0                   4969.0   \n",
      "\n",
      "   no.donations.lifetime  \n",
      "0                      0  \n",
      "1                      5  \n",
      "2                      7  \n",
      "3                     28  \n",
      "4                     16  \n",
      "account.id                  object\n",
      "amount.donated.2013        float64\n",
      "amount.donated.lifetime    float64\n",
      "no.donations.lifetime        int64\n",
      "dtype: object\n",
      "(19833, 4)\n",
      "        account.id  price.level  no.seats  season  set\n",
      "0  001i000000NuOP0          4.0         2  2012.0  4.0\n",
      "1  001i000000NuOYU          1.0         1  2013.0  6.0\n",
      "2  001i000000NuRS9          4.0         2  2011.0  3.0\n",
      "3  001i000000NuRPj          3.0         1  2013.0  2.0\n",
      "4  001i000000NuRQ1          2.0         2  2013.0  1.0\n",
      "account.id      object\n",
      "price.level    float64\n",
      "no.seats         int64\n",
      "season         float64\n",
      "set            float64\n",
      "dtype: object\n",
      "(2544, 5)\n"
     ]
    }
   ],
   "source": [
    "# drop shitty columns from account_df\n",
    "account_df_nums = account_df.drop(['shipping.zip.code', 'shipping.city', 'billing.city', 'relationship', 'billing.zip.code', 'first.donated'], axis=1)\n",
    "account_df_nums.dropna(inplace=True)\n",
    "print(account_df_nums.head())\n",
    "print(account_df_nums.dtypes)\n",
    "print(account_df_nums.shape)\n",
    "\n",
    "# drop shitty columns from tickets_all_df\n",
    "ticket_all_df_nums = ticket_all_df.drop(['marketing.source', 'location', 'multiple.tickets'], axis=1)\n",
    "ticket_all_df_nums.dropna(inplace=True)\n",
    "print(ticket_all_df_nums.head())\n",
    "print(ticket_all_df_nums.dtypes)\n",
    "print(ticket_all_df_nums.shape)"
   ]
  },
  {
   "cell_type": "code",
   "execution_count": null,
   "metadata": {},
   "outputs": [],
   "source": []
  },
  {
   "cell_type": "code",
   "execution_count": 174,
   "metadata": {},
   "outputs": [
    {
     "name": "stdout",
     "output_type": "stream",
     "text": [
      "        account.id  label  prev_subs\n",
      "0  001i000000NuRo3      0        0.0\n",
      "1  001i000000NuRxd      0        0.0\n",
      "2  001i000000NuQGN      0        0.0\n",
      "3  001i000000NuPfL      0        1.0\n",
      "4  001i000000NuQkP      0        0.0\n",
      "(6941, 3)\n",
      "                ID  prev_subs\n",
      "0  001i000000NuQ6Y        6.0\n",
      "1  001i000000NuQXz        1.0\n",
      "2  001i000000NuRDC        0.0\n",
      "3  001i000000NuQeg        0.0\n",
      "4  001i000000NuOQc        6.0\n",
      "(2975, 2)\n"
     ]
    }
   ],
   "source": [
    "# for each account.id in train_df find how many times it appears in subscriptions_df account.id and store as a new column. make value 0 if it doesn't appear\n",
    "train_df['prev_subs'] = train_df['account.id'].map(subscriptions_df['account.id'].value_counts())\n",
    "train_df['prev_subs'].fillna(0, inplace=True)\n",
    "print(train_df.head())\n",
    "print(train_df.shape)\n",
    "\n",
    "# do same thing for test_df\n",
    "test_df['prev_subs'] = test_df['ID'].map(subscriptions_df['account.id'].value_counts())\n",
    "test_df['prev_subs'].fillna(0, inplace=True)\n",
    "print(test_df.head())\n",
    "print(test_df.shape)"
   ]
  },
  {
   "cell_type": "code",
   "execution_count": 175,
   "metadata": {},
   "outputs": [],
   "source": [
    "# drop duplicate account.ids for account_df_nums and ticket_all_df_nums\n",
    "account_df_nums.drop_duplicates(subset='account.id', inplace=True)\n",
    "ticket_all_df_nums.drop_duplicates(subset='account.id', inplace=True)\n"
   ]
  },
  {
   "cell_type": "code",
   "execution_count": 176,
   "metadata": {},
   "outputs": [
    {
     "name": "stdout",
     "output_type": "stream",
     "text": [
      "(19833, 8)\n",
      "(6941, 3)\n",
      "        account.id  label  prev_subs  amount.donated.2013   \n",
      "0  001i000000NuRo3      0        0.0                  0.0  \\\n",
      "1  001i000000NuRxd      0        0.0                  0.0   \n",
      "2  001i000000NuQGN      0        0.0                  0.0   \n",
      "3  001i000000NuPfL      0        1.0                  0.0   \n",
      "4  001i000000NuQkP      0        0.0                  0.0   \n",
      "\n",
      "   amount.donated.lifetime  no.donations.lifetime  price.level  no.seats   \n",
      "0                      0.0                      0          0.0       0.0  \\\n",
      "1                      0.0                      0          0.0       0.0   \n",
      "2                      0.0                      0          0.0       0.0   \n",
      "3                      0.0                      0          0.0       0.0   \n",
      "4                      0.0                      0          0.0       0.0   \n",
      "\n",
      "   season  set  \n",
      "0     0.0  0.0  \n",
      "1     0.0  0.0  \n",
      "2     0.0  0.0  \n",
      "3     0.0  0.0  \n",
      "4     0.0  0.0  \n",
      "(6941, 10)\n"
     ]
    }
   ],
   "source": [
    "# join all dataframes by account.id making sure to keep as many points as possible\n",
    "df = pd.merge(account_df_nums, ticket_all_df_nums, on='account.id', how='outer')\n",
    "print(df.shape)\n",
    "df.drop_duplicates(inplace=True)\n",
    "df.fillna(0, inplace=True)\n",
    "print(train_df.shape)\n",
    "df = pd.merge(train_df, df, on='account.id', how='left')\n",
    "# df.drop_duplicates(inplace=True)\n",
    "# df.dropna(inplace=True)\n",
    "df.fillna(0, inplace=True)\n",
    "print(df.head())\n",
    "print(df.shape)\n",
    "# save to csv\n",
    "df.to_csv(data_folder + 'train_data.csv')\n",
    "\n",
    "# split data into trainign and validation sets\n",
    "train_data, val_data = train_test_split(df, test_size=0.05, stratify=df['label'])\n",
    "# print(train_data.shape)\n",
    "# print(val_data.shape)\n",
    "\n",
    "## split in to features and labels\n",
    "train_x  = train_data.drop(['account.id', 'label'], axis=1)\n",
    "train_y = train_data['label']\n",
    "\n",
    "val_x = val_data.drop(['account.id', 'label'], axis=1)\n",
    "val_y = val_data['label']"
   ]
  },
  {
   "cell_type": "code",
   "execution_count": 177,
   "metadata": {},
   "outputs": [
    {
     "name": "stdout",
     "output_type": "stream",
     "text": [
      "(2975, 2)\n",
      "        account.id  prev_subs  amount.donated.2013  amount.donated.lifetime   \n",
      "0  001i000000NuQ6Y        6.0                  0.0                   1818.0  \\\n",
      "1  001i000000NuQXz        1.0                  0.0                     75.0   \n",
      "2  001i000000NuRDC        0.0                  0.0                    100.0   \n",
      "3  001i000000NuQeg        0.0                  0.0                    100.0   \n",
      "4  001i000000NuOQc        6.0                  0.0                     88.0   \n",
      "\n",
      "   no.donations.lifetime  price.level  no.seats  season  set  \n",
      "0                      7          0.0       0.0     0.0  0.0  \n",
      "1                      1          0.0       0.0     0.0  0.0  \n",
      "2                      1          2.0       2.0  2012.0  2.0  \n",
      "3                      1          0.0       0.0     0.0  0.0  \n",
      "4                      2          0.0       0.0     0.0  0.0  \n",
      "(2975, 9)\n",
      "account.id                  object\n",
      "prev_subs                  float64\n",
      "amount.donated.2013        float64\n",
      "amount.donated.lifetime    float64\n",
      "no.donations.lifetime        int64\n",
      "price.level                float64\n",
      "no.seats                   float64\n",
      "season                     float64\n",
      "set                        float64\n",
      "dtype: object\n"
     ]
    }
   ],
   "source": [
    "# set up the test set \n",
    "# rename test_df['ID'] to test_df['account.id']\n",
    "test_df.rename(columns={'ID': 'account.id'}, inplace=True)\n",
    "# # join test_df with account_df_nums by account.id\n",
    "# temp_df = pd.merge(account_df_nums, ticket_all_df_nums, on='account.id', how='outer')\n",
    "# print(temp_df.shape)\n",
    "# temp_df.drop_duplicates(inplace=True)\n",
    "# print(test_df.shape)\n",
    "# test_data = pd.merge(test_df, temp_df, on='account.id', how='left')\n",
    "# test_data.drop_duplicates(inplace=True)\n",
    "# test_data.fillna(0, inplace=True)\n",
    "print(test_df.shape)\n",
    "# I need to merge the frames so that I get the columns from account_df_nums and ticket_all_df_nums\n",
    "# I need to make sure that I keep all the rows from test_df and exactly those rows\n",
    "# merge the dataframes appropriately\n",
    "test_data_temp = pd.merge(test_df, account_df_nums, on='account.id', how='left')\n",
    "test_data = pd.merge(test_data_temp, ticket_all_df_nums, on='account.id', how='left')\n",
    "\n",
    "test_data.fillna(0, inplace=True)\n",
    "\n",
    "\n",
    "\n",
    "print(test_data.head())\n",
    "print(test_data.shape)\n",
    "print(test_data.dtypes)\n",
    "\n"
   ]
  },
  {
   "cell_type": "code",
   "execution_count": 162,
   "metadata": {},
   "outputs": [
    {
     "name": "stdout",
     "output_type": "stream",
     "text": [
      "537     0\n",
      "5137    0\n",
      "6553    0\n",
      "219     0\n",
      "5175    0\n",
      "Name: label, dtype: int64\n",
      "label\n",
      "0    6445\n",
      "1     349\n",
      "Name: count, dtype: int64\n"
     ]
    }
   ],
   "source": [
    "print(train_y.head())\n",
    "# check to see if all values in train_y are 0 or 1\n",
    "print(train_y.value_counts())"
   ]
  },
  {
   "cell_type": "markdown",
   "metadata": {},
   "source": [
    "## Initialize Model"
   ]
  },
  {
   "cell_type": "code",
   "execution_count": 62,
   "metadata": {},
   "outputs": [],
   "source": [
    "import torch\n",
    "from torchvision import datasets, transforms\n",
    "import torchvision\n",
    "from torch.utils.data import DataLoader, TensorDataset\n",
    "import torch.nn as nn\n",
    "import torch.nn.functional as F\n",
    "import torch.optim as optim\n",
    "\n",
    "from sklearn.linear_model import LogisticRegression\n",
    "\n",
    "from sklearn.preprocessing import StandardScaler"
   ]
  },
  {
   "cell_type": "markdown",
   "metadata": {},
   "source": [
    "### LOGISTIC REGRESSION"
   ]
  },
  {
   "cell_type": "code",
   "execution_count": 63,
   "metadata": {},
   "outputs": [
    {
     "name": "stdout",
     "output_type": "stream",
     "text": [
      "(742, 8)\n",
      "Accuracy: 0.92\n"
     ]
    }
   ],
   "source": [
    "# initialize a logistic regression from sklearn\n",
    "logreg = LogisticRegression(penalty='l2', C=1.0, solver='lbfgs', max_iter=10000)\n",
    "\n",
    "print(train_x.shape)\n",
    "# fit the model to the training data\n",
    "logreg.fit(train_x, train_y)\n",
    "\n",
    "# predict on the validation data\n",
    "y_pred = logreg.predict(val_x)\n",
    "\n",
    "# calculate the accuracy\n",
    "acc = np.mean(y_pred == val_y)\n",
    "print(\"Accuracy: {:.2f}\".format(acc))"
   ]
  },
  {
   "cell_type": "code",
   "execution_count": 65,
   "metadata": {},
   "outputs": [],
   "source": [
    "# predict on the test data\n",
    "y_pred = logreg.predict(test_data.drop(['account.id'], axis=1))\n",
    "\n",
    "# save the predictions to a csv file with two columns: account.id and label\n",
    "results = pd.DataFrame({'ID': test_data['account.id'], 'Predicted': y_pred})\n",
    "results.to_csv(data_folder + 'results.csv', index=False)"
   ]
  },
  {
   "cell_type": "markdown",
   "metadata": {},
   "source": [
    "### NEURAL NETWORK"
   ]
  },
  {
   "cell_type": "code",
   "execution_count": 178,
   "metadata": {},
   "outputs": [],
   "source": [
    "# Normalize the input data\n",
    "scaler = StandardScaler()\n",
    "X_train = scaler.fit_transform(train_x)\n",
    "X_test = scaler.transform(test_data.drop(['account.id'], axis=1))"
   ]
  },
  {
   "cell_type": "code",
   "execution_count": 179,
   "metadata": {},
   "outputs": [],
   "source": [
    "# set up data loaders\n",
    "def prep_dataloaders(X_train,y_train,X_val, y_val, X_test,batch_size):\n",
    "    # Convert training and test data to TensorDatasets\n",
    "    trainset = TensorDataset(torch.from_numpy(np.array(X_train)).float(), \n",
    "                            torch.from_numpy(np.array(y_train)).float().view(-1,1))\n",
    "    testset = TensorDataset(torch.from_numpy(np.array(X_test)).float())\n",
    "\n",
    "    valset = TensorDataset(torch.from_numpy(np.array(X_val)).float(), \n",
    "                            torch.from_numpy(np.array(y_val)).long())\n",
    "\n",
    "    # Create Dataloaders for our training and test data to allow us to iterate over minibatches \n",
    "    trainloader = torch.utils.data.DataLoader(trainset, batch_size=batch_size, shuffle=True)\n",
    "    testloader = torch.utils.data.DataLoader(testset, batch_size=batch_size, shuffle=False)\n",
    "    valloader = torch.utils.data.DataLoader(valset, batch_size=batch_size, shuffle=False)\n",
    "\n",
    "    return trainloader, testloader, valloader\n",
    "\n",
    "batchsize = 32\n",
    "trainloader,testloader, valloader = prep_dataloaders(X_train,train_y, val_x, val_y, X_test,batchsize)"
   ]
  },
  {
   "cell_type": "code",
   "execution_count": 180,
   "metadata": {},
   "outputs": [],
   "source": [
    "# define the network\n",
    "class Net(nn.Module):\n",
    "    def __init__(self):\n",
    "        super().__init__()\n",
    "        self.hidden1 = nn.Linear(8, 64)\n",
    "        self.hidden2 = nn.Linear(64, 32)\n",
    "        self.out = nn.Linear(32, 1)\n",
    "\n",
    "    def forward(self, x):\n",
    "        x = F.relu(self.hidden1(x))\n",
    "        x = F.relu(self.hidden2(x))\n",
    "        x = torch.sigmoid(self.out(x))\n",
    "        return x\n",
    "\n",
    "nnet = Net()"
   ]
  },
  {
   "cell_type": "code",
   "execution_count": 181,
   "metadata": {},
   "outputs": [],
   "source": [
    "# Define the cost / loss function\n",
    "# binary cross entropy loss\n",
    "criterion = nn.BCELoss()\n",
    "# Define the method of updating the weights each iteration using ATOM optimizer\n",
    "optimizer = optim.Adam(nnet.parameters(), lr=0.001)\n",
    "# optimizer = optim.SGD(nnet.parameters(), lr=0.001, momentum=0.9)"
   ]
  },
  {
   "cell_type": "code",
   "execution_count": 182,
   "metadata": {},
   "outputs": [],
   "source": [
    "def train_model(model,criterion,optimizer,trainloader,num_iter,device):\n",
    "    # model = model.to(device) # Send model to GPU if available\n",
    "    model.train() # Set the model to training mode\n",
    "    train_cost = []\n",
    "    for epoch in range(num_iter):\n",
    "\n",
    "        train_running_loss = 0.0\n",
    "\n",
    "        for i, data in enumerate(trainloader):\n",
    "\n",
    "            # Get the inputs X and labels y for the minibatch\n",
    "            inputs, labels = data[0].to(device), data[1].to(device)\n",
    "\n",
    "            # Zero the gradients of the weights each iteration\n",
    "            optimizer.zero_grad()\n",
    "\n",
    "            # Calculate the predictions and the cost/loss\n",
    "            outputs = model.forward(inputs)\n",
    "            loss = criterion(outputs, labels)\n",
    "\n",
    "            # Use autograd to calculate the gradient of the cost with respect to each weight\n",
    "            loss.backward()\n",
    "\n",
    "            # Use the optimizer to do the weights update\n",
    "            optimizer.step()\n",
    "\n",
    "            # Add the loss to running loss for the epoch\n",
    "            train_running_loss += loss.item()\n",
    "\n",
    "        train_cost.append(train_running_loss)\n",
    "    return train_cost"
   ]
  },
  {
   "cell_type": "code",
   "execution_count": 183,
   "metadata": {},
   "outputs": [
    {
     "data": {
      "image/png": "[encoded data removed]",
      "text/plain": [
       "<Figure size 640x480 with 1 Axes>"
      ]
     },
     "metadata": {},
     "output_type": "display_data"
    }
   ],
   "source": [
    "\n",
    "# Set device\n",
    "# device = torch.device(\"cuda\" if torch.cuda.is_available() else \"cpu\")\n",
    "# print(device)\n",
    "device = torch.device(\"cpu\")\n",
    "# Number of iterations (epochs) to train\n",
    "n_iter = 500\n",
    "\n",
    "cost_path = train_model(nnet,criterion,optimizer,trainloader,n_iter,device)\n",
    "\n",
    "plt.plot(cost_path)\n",
    "plt.xlabel('Epoch')\n",
    "plt.ylabel('Loss')\n",
    "plt.show()"
   ]
  },
  {
   "cell_type": "code",
   "execution_count": 190,
   "metadata": {},
   "outputs": [
    {
     "name": "stdout",
     "output_type": "stream",
     "text": [
      "[5.7321385e-04 3.2213435e-02 5.3584995e-07 ... 3.3608846e-02 7.1697287e-02\n",
      " 3.1787653e-02]\n"
     ]
    }
   ],
   "source": [
    "# generate predictions using test data \n",
    "def predict(model,testloader,device):\n",
    "    model.eval() # Set the model to evaluation mode\n",
    "    predictions = []\n",
    "    for i, data in enumerate(testloader):\n",
    "        inputs = data[0].to(device)\n",
    "        outputs = model.forward(inputs)\n",
    "        predictions.append(outputs.detach().numpy())\n",
    "    return np.concatenate(predictions)\n",
    "\n",
    "# predict on the test data\n",
    "y_pred = predict(nnet,testloader,device)\n",
    "print(y_pred.flatten())\n",
    "preds = pd.DataFrame({'ID': test_data['account.id'], 'Predicted': y_pred.flatten()})\n",
    "preds.to_csv(data_folder + 'preds.csv', index=False)"
   ]
  },
  {
   "cell_type": "code",
   "execution_count": 192,
   "metadata": {},
   "outputs": [],
   "source": [
    "# save predictions to csv file\n",
    "# copy p_pred\n",
    "y_pred_thresh = y_pred.copy()\n",
    "threshold = 0.001\n",
    "y_pred_thresh[y_pred > threshold] = 1\n",
    "y_pred_thresh[y_pred <= threshold] = 0\n",
    "results = pd.DataFrame({'ID': test_data['account.id'], 'Predicted': y_pred_thresh.flatten()})\n",
    "\n",
    "\n",
    "# keep only unique IDs\n",
    "results_unique = results.drop_duplicates(subset='ID', keep='first')\n",
    "results_unique.to_csv(data_folder + 'results.csv', index=False)"
   ]
  },
  {
   "cell_type": "code",
   "execution_count": null,
   "metadata": {},
   "outputs": [],
   "source": []
  }
 ],
 "metadata": {
  "kernelspec": {
   "display_name": "Python 3",
   "language": "python",
   "name": "python3"
  },
  "language_info": {
   "codemirror_mode": {
    "name": "ipython",
    "version": 3
   },
   "file_extension": ".py",
   "mimetype": "text/x-python",
   "name": "python",
   "nbconvert_exporter": "python",
   "pygments_lexer": "ipython3",
   "version": "3.10.10"
  }
 },
 "nbformat": 4,
 "nbformat_minor": 2
}
