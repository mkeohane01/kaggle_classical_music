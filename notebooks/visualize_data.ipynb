{
 "cells": [
  {
   "cell_type": "code",
   "execution_count": 5,
   "metadata": {},
   "outputs": [],
   "source": [
    "import numpy as np\n",
    "import pandas as pd\n",
    "import matplotlib.pyplot as plt\n",
    "import os\n",
    "import sklearn\n",
    "\n",
    "data_folder = \"../data/\""
   ]
  },
  {
   "cell_type": "markdown",
   "metadata": {},
   "source": [
    "## Loading Data"
   ]
  },
  {
   "cell_type": "code",
   "execution_count": 6,
   "metadata": {},
   "outputs": [
    {
     "name": "stdout",
     "output_type": "stream",
     "text": [
      "        account.id price.level  no.seats      marketing.source     season   \n",
      "0  001i000000NuOP0           4         2                   NaN  2012-2013  \\\n",
      "1  001i000000NuOYU           1         1                 Other  2013-2014   \n",
      "2  001i000000NuRS9           4         2                   NaN  2011-2012   \n",
      "3  001i000000NuRPj           3         1  Postcard or brochure  2013-2014   \n",
      "4  001i000000NuRQ1           2         2                   NaN  2013-2014   \n",
      "\n",
      "            location  set multiple.tickets  \n",
      "0      San Francisco  4.0               no  \n",
      "1    Berkeley Sunday  6.0               no  \n",
      "2     Family concert  3.0               no  \n",
      "3  Berkeley Saturday  2.0               no  \n",
      "4  Berkeley Saturday  1.0               no  \n"
     ]
    }
   ],
   "source": [
    "# load data from data/tickets_all.csv\n",
    "ticket_all_df = pd.read_csv(data_folder + 'tickets_all.csv')\n",
    "print(ticket_all_df.head())"
   ]
  },
  {
   "cell_type": "code",
   "execution_count": 7,
   "metadata": {},
   "outputs": [
    {
     "name": "stdout",
     "output_type": "stream",
     "text": [
      "        account.id  label\n",
      "0  001i000000NuRo3      0\n",
      "1  001i000000NuRxd      0\n",
      "2  001i000000NuQGN      0\n",
      "3  001i000000NuPfL      0\n",
      "4  001i000000NuQkP      0\n"
     ]
    }
   ],
   "source": [
    "train_df = pd.read_csv(data_folder + 'train.csv')\n",
    "print(train_df.head())"
   ]
  },
  {
   "cell_type": "code",
   "execution_count": 10,
   "metadata": {},
   "outputs": [
    {
     "name": "stdout",
     "output_type": "stream",
     "text": [
      "         account.id price.level  no.seats      marketing.source     season   \n",
      "0   001i000000NuOYU           1         1                 Other  2013-2014  \\\n",
      "2   001i000000NuOYU           1         1                 Other  2013-2014   \n",
      "5   001i000000NuRLz           2         1  Postcard or brochure  2013-2014   \n",
      "8   001i000000NuQSw           3         1  Philharmonia website  2013-2014   \n",
      "11  001i000000NuQSw           4         1         Word of mouth  2013-2014   \n",
      "\n",
      "             location  set multiple.tickets  label  \n",
      "0     Berkeley Sunday  6.0               no      0  \n",
      "2   Berkeley Saturday  1.0               no      0  \n",
      "5       San Francisco  1.0               no      0  \n",
      "8       San Francisco  4.0               no      1  \n",
      "11      San Francisco  3.0               no      1  \n",
      "   price.level  no.seats      marketing.source     season           location   \n",
      "0            1         1                 Other  2013-2014    Berkeley Sunday  \\\n",
      "2            1         1                 Other  2013-2014  Berkeley Saturday   \n",
      "5            2         1  Postcard or brochure  2013-2014      San Francisco   \n",
      "8            3         1  Philharmonia website  2013-2014      San Francisco   \n",
      "11           4         1         Word of mouth  2013-2014      San Francisco   \n",
      "\n",
      "    set multiple.tickets  \n",
      "0   6.0               no  \n",
      "2   1.0               no  \n",
      "5   1.0               no  \n",
      "8   4.0               no  \n",
      "11  3.0               no  \n",
      "0     0\n",
      "2     0\n",
      "5     0\n",
      "8     1\n",
      "11    1\n",
      "Name: label, dtype: int64\n"
     ]
    }
   ],
   "source": [
    "# join dataframes by account.id\n",
    "df = pd.merge(ticket_all_df, train_df, on='account.id')\n",
    "df.dropna(inplace=True)\n",
    "print(df.head())\n",
    "\n",
    "train_x  = df.drop(['account.id', 'label'], axis=1)\n",
    "train_y = df['label']\n",
    "\n",
    "print(train_x.head())\n",
    "print(train_y.head())\n"
   ]
  },
  {
   "cell_type": "markdown",
   "metadata": {},
   "source": [
    "## Initialize Model"
   ]
  },
  {
   "cell_type": "code",
   "execution_count": null,
   "metadata": {},
   "outputs": [],
   "source": [
    "# "
   ]
  }
 ],
 "metadata": {
  "kernelspec": {
   "display_name": "Python 3",
   "language": "python",
   "name": "python3"
  },
  "language_info": {
   "codemirror_mode": {
    "name": "ipython",
    "version": 3
   },
   "file_extension": ".py",
   "mimetype": "text/x-python",
   "name": "python",
   "nbconvert_exporter": "python",
   "pygments_lexer": "ipython3",
   "version": "3.10.10"
  }
 },
 "nbformat": 4,
 "nbformat_minor": 2
}
