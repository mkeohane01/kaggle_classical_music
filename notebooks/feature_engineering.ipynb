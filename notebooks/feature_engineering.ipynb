{
 "cells": [
  {
   "cell_type": "code",
   "execution_count": 10,
   "metadata": {},
   "outputs": [],
   "source": [
    "import pandas as pd\n",
    "import numpy as np"
   ]
  },
  {
   "cell_type": "code",
   "execution_count": 18,
   "metadata": {},
   "outputs": [],
   "source": [
    "subscriptions = pd.read_csv('../data/subscriptions.csv')"
   ]
  },
  {
   "cell_type": "code",
   "execution_count": 19,
   "metadata": {},
   "outputs": [
    {
     "name": "stdout",
     "output_type": "stream",
     "text": [
      "        account.id     season  package  no.seats           location   \n",
      "0  001i000000LhyR3  2009-2010  Quartet         2      San Francisco  \\\n",
      "1  001i000000NuOeY  2000-2001     Full         2      San Francisco   \n",
      "2  001i000000NuNvb  2001-2002     Full         2  Berkeley Saturday   \n",
      "3  001i000000NuOIz  1993-1994  Quartet         1       Contra Costa   \n",
      "4  001i000000NuNVE  1998-1999     Full         2    Berkeley Sunday   \n",
      "\n",
      "             section  price.level  subscription_tier multiple.subs  \n",
      "0  Premium Orchestra          1.0                1.0            no  \n",
      "1          Orchestra          2.0                2.0            no  \n",
      "2      Balcony Front          3.0                2.0            no  \n",
      "3          Orchestra          2.0                0.5            no  \n",
      "4       Balcony Rear          4.0                2.0            no  \n"
     ]
    }
   ],
   "source": [
    "print(subscriptions.head())"
   ]
  },
  {
   "cell_type": "code",
   "execution_count": 24,
   "metadata": {},
   "outputs": [
    {
     "name": "stdout",
     "output_type": "stream",
     "text": [
      "        account.id     season  no.seats  price.level  subscription_tier\n",
      "0  001i000000LhyR3  2009-2010         2          1.0                1.0\n",
      "1  001i000000NuOeY  2000-2001         2          2.0                2.0\n",
      "2  001i000000NuNvb  2001-2002         2          3.0                2.0\n",
      "3  001i000000NuOIz  1993-1994         1          2.0                0.5\n",
      "4  001i000000NuNVE  1998-1999         2          4.0                2.0\n",
      "<class 'pandas.core.frame.DataFrame'>\n",
      "RangeIndex: 28627 entries, 0 to 28626\n",
      "Data columns (total 5 columns):\n",
      " #   Column             Non-Null Count  Dtype  \n",
      "---  ------             --------------  -----  \n",
      " 0   account.id         28627 non-null  object \n",
      " 1   season             28627 non-null  object \n",
      " 2   no.seats           28627 non-null  int64  \n",
      " 3   price.level        25093 non-null  float64\n",
      " 4   subscription_tier  28627 non-null  float64\n",
      "dtypes: float64(2), int64(1), object(2)\n",
      "memory usage: 1.1+ MB\n",
      "None\n",
      "(28627, 5)\n"
     ]
    }
   ],
   "source": [
    "\n",
    "# drop package, location, section, and multiple.subs columns from df\n",
    "subs = subscriptions.drop(['package', 'location', 'section', 'multiple.subs'], axis=1)\n",
    "print(subs.head())\n",
    "\n",
    "print(subs.info())\n",
    "print(subs.shape)\n",
    "\n"
   ]
  },
  {
   "cell_type": "code",
   "execution_count": 29,
   "metadata": {},
   "outputs": [
    {
     "name": "stdout",
     "output_type": "stream",
     "text": [
      "        account.id  no.seats  price.level  subscription_tier  1993-1994   \n",
      "0  001i000000LhyR3         2          1.0                1.0          0  \\\n",
      "\n",
      "   1994-1995  1995-1996  1996-1997  1997-1998  1998-1999  ...  2004-2005   \n",
      "0          0          0          0          0          0  ...          0  \\\n",
      "\n",
      "   2005-2006  2006-2007  2007-2008  2008-2009  2009-2010  2010-2011   \n",
      "0          0          0          0          0          1          0  \\\n",
      "\n",
      "   2011-2012  2012-2013  2013-2014  \n",
      "0          0          0          0  \n",
      "\n",
      "[1 rows x 25 columns]\n",
      "<class 'pandas.core.frame.DataFrame'>\n",
      "RangeIndex: 28627 entries, 0 to 28626\n",
      "Data columns (total 25 columns):\n",
      " #   Column             Non-Null Count  Dtype  \n",
      "---  ------             --------------  -----  \n",
      " 0   account.id         28627 non-null  object \n",
      " 1   no.seats           28627 non-null  int64  \n",
      " 2   price.level        25093 non-null  float64\n",
      " 3   subscription_tier  28627 non-null  float64\n",
      " 4   1993-1994          28627 non-null  int32  \n",
      " 5   1994-1995          28627 non-null  int32  \n",
      " 6   1995-1996          28627 non-null  int32  \n",
      " 7   1996-1997          28627 non-null  int32  \n",
      " 8   1997-1998          28627 non-null  int32  \n",
      " 9   1998-1999          28627 non-null  int32  \n",
      " 10  1999-2000          28627 non-null  int32  \n",
      " 11  2000-2001          28627 non-null  int32  \n",
      " 12  2001-2002          28627 non-null  int32  \n",
      " 13  2002-2003          28627 non-null  int32  \n",
      " 14  2003-2004          28627 non-null  int32  \n",
      " 15  2004-2005          28627 non-null  int32  \n",
      " 16  2005-2006          28627 non-null  int32  \n",
      " 17  2006-2007          28627 non-null  int32  \n",
      " 18  2007-2008          28627 non-null  int32  \n",
      " 19  2008-2009          28627 non-null  int32  \n",
      " 20  2009-2010          28627 non-null  int32  \n",
      " 21  2010-2011          28627 non-null  int32  \n",
      " 22  2011-2012          28627 non-null  int32  \n",
      " 23  2012-2013          28627 non-null  int32  \n",
      " 24  2013-2014          28627 non-null  int32  \n",
      "dtypes: float64(2), int32(21), int64(1), object(1)\n",
      "memory usage: 3.2+ MB\n",
      "None\n",
      "Index(['account.id', 'no.seats', 'price.level', 'subscription_tier',\n",
      "       '1993-1994', '1994-1995', '1995-1996', '1996-1997', '1997-1998',\n",
      "       '1998-1999', '1999-2000', '2000-2001', '2001-2002', '2002-2003',\n",
      "       '2003-2004', '2004-2005', '2005-2006', '2006-2007', '2007-2008',\n",
      "       '2008-2009', '2009-2010', '2010-2011', '2011-2012', '2012-2013',\n",
      "       '2013-2014'],\n",
      "      dtype='object')\n",
      "(28627, 25)\n"
     ]
    }
   ],
   "source": [
    "# group by season and then one-hot encode them\n",
    "seasons = pd.get_dummies(subs['season'])\n",
    "# print(seasons.head())\n",
    "# make these ints not bools\n",
    "seasons = seasons.astype(int)\n",
    "# merge seasons will subs df (after dropping season from it)\n",
    "subs_temp = subs.drop('season', axis=1)\n",
    "\n",
    "subs_df = pd.concat([subs_temp, seasons], axis=1)\n",
    "\n",
    "\n",
    "print(subs_df.head(1))\n",
    "print(subs_df.info())\n",
    "print(subs_df.columns)\n",
    "print(subs_df.shape)"
   ]
  },
  {
   "cell_type": "code",
   "execution_count": 30,
   "metadata": {},
   "outputs": [
    {
     "name": "stdout",
     "output_type": "stream",
     "text": [
      "        account.id  no.seats  price.level  subscription_tier  1993-1994   \n",
      "0  001i000000LhyR3         2          1.0                1.0          0  \\\n",
      "\n",
      "   1994-1995  1995-1996  1996-1997  1997-1998  1998-1999  ...  2004-2005   \n",
      "0          0          0          0          0          0  ...          0  \\\n",
      "\n",
      "   2005-2006  2006-2007  2007-2008  2008-2009  2009-2010  2010-2011   \n",
      "0          0          0          0          0          1          0  \\\n",
      "\n",
      "   2011-2012  2012-2013  2013-2014  \n",
      "0          0          0          0  \n",
      "\n",
      "[1 rows x 25 columns]\n",
      "<class 'pandas.core.frame.DataFrame'>\n",
      "RangeIndex: 28627 entries, 0 to 28626\n",
      "Data columns (total 25 columns):\n",
      " #   Column             Non-Null Count  Dtype  \n",
      "---  ------             --------------  -----  \n",
      " 0   account.id         28627 non-null  object \n",
      " 1   no.seats           28627 non-null  int64  \n",
      " 2   price.level        25093 non-null  float64\n",
      " 3   subscription_tier  28627 non-null  float64\n",
      " 4   1993-1994          28627 non-null  int32  \n",
      " 5   1994-1995          28627 non-null  int32  \n",
      " 6   1995-1996          28627 non-null  int32  \n",
      " 7   1996-1997          28627 non-null  int32  \n",
      " 8   1997-1998          28627 non-null  int32  \n",
      " 9   1998-1999          28627 non-null  int32  \n",
      " 10  1999-2000          28627 non-null  int32  \n",
      " 11  2000-2001          28627 non-null  int32  \n",
      " 12  2001-2002          28627 non-null  int32  \n",
      " 13  2002-2003          28627 non-null  int32  \n",
      " 14  2003-2004          28627 non-null  int32  \n",
      " 15  2004-2005          28627 non-null  int32  \n",
      " 16  2005-2006          28627 non-null  int32  \n",
      " 17  2006-2007          28627 non-null  int32  \n",
      " 18  2007-2008          28627 non-null  int32  \n",
      " 19  2008-2009          28627 non-null  int32  \n",
      " 20  2009-2010          28627 non-null  int32  \n",
      " 21  2010-2011          28627 non-null  int32  \n",
      " 22  2011-2012          28627 non-null  int32  \n",
      " 23  2012-2013          28627 non-null  int32  \n",
      " 24  2013-2014          28627 non-null  int32  \n",
      "dtypes: float64(2), int32(21), int64(1), object(1)\n",
      "memory usage: 3.2+ MB\n",
      "None\n",
      "Index(['account.id', 'no.seats', 'price.level', 'subscription_tier',\n",
      "       '1993-1994', '1994-1995', '1995-1996', '1996-1997', '1997-1998',\n",
      "       '1998-1999', '1999-2000', '2000-2001', '2001-2002', '2002-2003',\n",
      "       '2003-2004', '2004-2005', '2005-2006', '2006-2007', '2007-2008',\n",
      "       '2008-2009', '2009-2010', '2010-2011', '2011-2012', '2012-2013',\n",
      "       '2013-2014'],\n",
      "      dtype='object')\n",
      "(28627, 25)\n"
     ]
    }
   ],
   "source": [
    "# do the steps I did above but for a function with an input as the OG subs df\n",
    "def one_hot_seasons(df):\n",
    "    seasons = pd.get_dummies(df['season'])\n",
    "    seasons = seasons.astype(int)\n",
    "    df_temp = df.drop('season', axis=1)\n",
    "    df = pd.concat([df_temp, seasons], axis=1)\n",
    "    return df\n",
    "\n",
    "# test the function\n",
    "subs_df = one_hot_seasons(subs)\n",
    "print(subs_df.head(1))\n",
    "print(subs_df.info())\n",
    "print(subs_df.columns)\n",
    "print(subs_df.shape)"
   ]
  },
  {
   "cell_type": "code",
   "execution_count": 32,
   "metadata": {},
   "outputs": [
    {
     "name": "stdout",
     "output_type": "stream",
     "text": [
      "account.id\n",
      "001i000000LhyQf    21\n",
      "001i000000LhydM    21\n",
      "001i000000LhyT1    21\n",
      "001i000000LhybY    21\n",
      "001i000000LhybE    21\n",
      "                   ..\n",
      "001i000000LhySa    21\n",
      "001i000000LhyPd    21\n",
      "001i000000LhyZP    21\n",
      "001i000000LhyRQ    21\n",
      "001i000000LhySE    21\n",
      "Name: count, Length: 100, dtype: int64\n"
     ]
    }
   ],
   "source": [
    "# count duplicate account.ids"
   ]
  },
  {
   "cell_type": "code",
   "execution_count": 33,
   "metadata": {},
   "outputs": [
    {
     "name": "stdout",
     "output_type": "stream",
     "text": [
      "        account.id     season  package  no.seats           location   \n",
      "0  001i000000LhyR3  2009-2010  Quartet         2      San Francisco  \\\n",
      "1  001i000000NuOeY  2000-2001     Full         2      San Francisco   \n",
      "2  001i000000NuNvb  2001-2002     Full         2  Berkeley Saturday   \n",
      "3  001i000000NuOIz  1993-1994  Quartet         1       Contra Costa   \n",
      "4  001i000000NuNVE  1998-1999     Full         2    Berkeley Sunday   \n",
      "\n",
      "             section  price.level  subscription_tier multiple.subs  \n",
      "0  Premium Orchestra          1.0                1.0            no  \n",
      "1          Orchestra          2.0                2.0            no  \n",
      "2      Balcony Front          3.0                2.0            no  \n",
      "3          Orchestra          2.0                0.5            no  \n",
      "4       Balcony Rear          4.0                2.0            no  \n"
     ]
    }
   ],
   "source": [
    "subs_new = subscriptions.copy()\n",
    "print(subs_new.head())"
   ]
  },
  {
   "cell_type": "code",
   "execution_count": 41,
   "metadata": {},
   "outputs": [
    {
     "name": "stdout",
     "output_type": "stream",
     "text": [
      "Index(['1993-1994', '1994-1995', '1995-1996', '1996-1997', '1997-1998',\n",
      "       '1998-1999', '1999-2000', '2000-2001', '2001-2002', '2002-2003',\n",
      "       '2003-2004', '2004-2005', '2005-2006', '2006-2007', '2007-2008',\n",
      "       '2008-2009', '2009-2010', '2010-2011', '2011-2012', '2012-2013',\n",
      "       '2013-2014'],\n",
      "      dtype='object', name='season')\n"
     ]
    }
   ],
   "source": [
    "# take season and pivot it so that each column has a season and each row has an account.id\n",
    "# then fill in the values with the number of subscriptions for that season\n",
    "subs_pivot = subs_new.pivot_table(index='account.id', columns='season', values='subscription_tier', aggfunc='max')\n",
    "# fill nans with 0\n",
    "subs_pivot = subs_pivot.fillna(0)\n",
    "# print(subs_pivot.head())\n",
    "print(subs_pivot.columns)"
   ]
  },
  {
   "cell_type": "code",
   "execution_count": 39,
   "metadata": {},
   "outputs": [],
   "source": [
    "\n"
   ]
  },
  {
   "cell_type": "code",
   "execution_count": null,
   "metadata": {},
   "outputs": [],
   "source": []
  }
 ],
 "metadata": {
  "kernelspec": {
   "display_name": "Python 3",
   "language": "python",
   "name": "python3"
  },
  "language_info": {
   "codemirror_mode": {
    "name": "ipython",
    "version": 3
   },
   "file_extension": ".py",
   "mimetype": "text/x-python",
   "name": "python",
   "nbconvert_exporter": "python",
   "pygments_lexer": "ipython3",
   "version": "3.10.10"
  }
 },
 "nbformat": 4,
 "nbformat_minor": 2
}
