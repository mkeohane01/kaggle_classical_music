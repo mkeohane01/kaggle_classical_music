{
 "cells": [
  {
   "cell_type": "code",
   "execution_count": 1,
   "metadata": {},
   "outputs": [],
   "source": [
    "import pandas as pd\n",
    "import numpy as np"
   ]
  },
  {
   "cell_type": "code",
   "execution_count": 2,
   "metadata": {},
   "outputs": [],
   "source": [
    "subscriptions = pd.read_csv('../data/subscriptions.csv')\n"
   ]
  },
  {
   "cell_type": "code",
   "execution_count": 3,
   "metadata": {},
   "outputs": [
    {
     "name": "stdout",
     "output_type": "stream",
     "text": [
      "        account.id     season  package  no.seats           location   \n",
      "0  001i000000LhyR3  2009-2010  Quartet         2      San Francisco  \\\n",
      "1  001i000000NuOeY  2000-2001     Full         2      San Francisco   \n",
      "2  001i000000NuNvb  2001-2002     Full         2  Berkeley Saturday   \n",
      "3  001i000000NuOIz  1993-1994  Quartet         1       Contra Costa   \n",
      "4  001i000000NuNVE  1998-1999     Full         2    Berkeley Sunday   \n",
      "\n",
      "             section  price.level  subscription_tier multiple.subs  \n",
      "0  Premium Orchestra          1.0                1.0            no  \n",
      "1          Orchestra          2.0                2.0            no  \n",
      "2      Balcony Front          3.0                2.0            no  \n",
      "3          Orchestra          2.0                0.5            no  \n",
      "4       Balcony Rear          4.0                2.0            no  \n"
     ]
    }
   ],
   "source": [
    "print(subscriptions.head())"
   ]
  },
  {
   "cell_type": "code",
   "execution_count": 4,
   "metadata": {},
   "outputs": [
    {
     "name": "stdout",
     "output_type": "stream",
     "text": [
      "        account.id     season  no.seats  price.level  subscription_tier\n",
      "0  001i000000LhyR3  2009-2010         2          1.0                1.0\n",
      "1  001i000000NuOeY  2000-2001         2          2.0                2.0\n",
      "2  001i000000NuNvb  2001-2002         2          3.0                2.0\n",
      "3  001i000000NuOIz  1993-1994         1          2.0                0.5\n",
      "4  001i000000NuNVE  1998-1999         2          4.0                2.0\n",
      "<class 'pandas.core.frame.DataFrame'>\n",
      "RangeIndex: 28627 entries, 0 to 28626\n",
      "Data columns (total 5 columns):\n",
      " #   Column             Non-Null Count  Dtype  \n",
      "---  ------             --------------  -----  \n",
      " 0   account.id         28627 non-null  object \n",
      " 1   season             28627 non-null  object \n",
      " 2   no.seats           28627 non-null  int64  \n",
      " 3   price.level        25093 non-null  float64\n",
      " 4   subscription_tier  28627 non-null  float64\n",
      "dtypes: float64(2), int64(1), object(2)\n",
      "memory usage: 1.1+ MB\n",
      "None\n",
      "(28627, 5)\n"
     ]
    }
   ],
   "source": [
    "\n",
    "# drop package, location, section, and multiple.subs columns from df\n",
    "subs = subscriptions.drop(['package', 'location', 'section', 'multiple.subs'], axis=1)\n",
    "print(subs.head())\n",
    "\n",
    "print(subs.info())\n",
    "print(subs.shape)\n",
    "\n"
   ]
  },
  {
   "cell_type": "code",
   "execution_count": 5,
   "metadata": {},
   "outputs": [
    {
     "name": "stdout",
     "output_type": "stream",
     "text": [
      "        account.id  no.seats  price.level  subscription_tier  1993-1994   \n",
      "0  001i000000LhyR3         2          1.0                1.0          0  \\\n",
      "\n",
      "   1994-1995  1995-1996  1996-1997  1997-1998  1998-1999  ...  2004-2005   \n",
      "0          0          0          0          0          0  ...          0  \\\n",
      "\n",
      "   2005-2006  2006-2007  2007-2008  2008-2009  2009-2010  2010-2011   \n",
      "0          0          0          0          0          1          0  \\\n",
      "\n",
      "   2011-2012  2012-2013  2013-2014  \n",
      "0          0          0          0  \n",
      "\n",
      "[1 rows x 25 columns]\n",
      "<class 'pandas.core.frame.DataFrame'>\n",
      "RangeIndex: 28627 entries, 0 to 28626\n",
      "Data columns (total 25 columns):\n",
      " #   Column             Non-Null Count  Dtype  \n",
      "---  ------             --------------  -----  \n",
      " 0   account.id         28627 non-null  object \n",
      " 1   no.seats           28627 non-null  int64  \n",
      " 2   price.level        25093 non-null  float64\n",
      " 3   subscription_tier  28627 non-null  float64\n",
      " 4   1993-1994          28627 non-null  int32  \n",
      " 5   1994-1995          28627 non-null  int32  \n",
      " 6   1995-1996          28627 non-null  int32  \n",
      " 7   1996-1997          28627 non-null  int32  \n",
      " 8   1997-1998          28627 non-null  int32  \n",
      " 9   1998-1999          28627 non-null  int32  \n",
      " 10  1999-2000          28627 non-null  int32  \n",
      " 11  2000-2001          28627 non-null  int32  \n",
      " 12  2001-2002          28627 non-null  int32  \n",
      " 13  2002-2003          28627 non-null  int32  \n",
      " 14  2003-2004          28627 non-null  int32  \n",
      " 15  2004-2005          28627 non-null  int32  \n",
      " 16  2005-2006          28627 non-null  int32  \n",
      " 17  2006-2007          28627 non-null  int32  \n",
      " 18  2007-2008          28627 non-null  int32  \n",
      " 19  2008-2009          28627 non-null  int32  \n",
      " 20  2009-2010          28627 non-null  int32  \n",
      " 21  2010-2011          28627 non-null  int32  \n",
      " 22  2011-2012          28627 non-null  int32  \n",
      " 23  2012-2013          28627 non-null  int32  \n",
      " 24  2013-2014          28627 non-null  int32  \n",
      "dtypes: float64(2), int32(21), int64(1), object(1)\n",
      "memory usage: 3.2+ MB\n",
      "None\n",
      "Index(['account.id', 'no.seats', 'price.level', 'subscription_tier',\n",
      "       '1993-1994', '1994-1995', '1995-1996', '1996-1997', '1997-1998',\n",
      "       '1998-1999', '1999-2000', '2000-2001', '2001-2002', '2002-2003',\n",
      "       '2003-2004', '2004-2005', '2005-2006', '2006-2007', '2007-2008',\n",
      "       '2008-2009', '2009-2010', '2010-2011', '2011-2012', '2012-2013',\n",
      "       '2013-2014'],\n",
      "      dtype='object')\n",
      "(28627, 25)\n"
     ]
    }
   ],
   "source": [
    "# group by season and then one-hot encode them\n",
    "seasons = pd.get_dummies(subs['season'])\n",
    "# print(seasons.head())\n",
    "# make these ints not bools\n",
    "seasons = seasons.astype(int)\n",
    "# merge seasons will subs df (after dropping season from it)\n",
    "subs_temp = subs.drop('season', axis=1)\n",
    "\n",
    "subs_df = pd.concat([subs_temp, seasons], axis=1)\n",
    "\n",
    "\n",
    "print(subs_df.head(1))\n",
    "print(subs_df.info())\n",
    "print(subs_df.columns)\n",
    "print(subs_df.shape)"
   ]
  },
  {
   "cell_type": "code",
   "execution_count": 6,
   "metadata": {},
   "outputs": [
    {
     "name": "stdout",
     "output_type": "stream",
     "text": [
      "        account.id  no.seats  price.level  subscription_tier  1993-1994   \n",
      "0  001i000000LhyR3         2          1.0                1.0          0  \\\n",
      "\n",
      "   1994-1995  1995-1996  1996-1997  1997-1998  1998-1999  ...  2004-2005   \n",
      "0          0          0          0          0          0  ...          0  \\\n",
      "\n",
      "   2005-2006  2006-2007  2007-2008  2008-2009  2009-2010  2010-2011   \n",
      "0          0          0          0          0          1          0  \\\n",
      "\n",
      "   2011-2012  2012-2013  2013-2014  \n",
      "0          0          0          0  \n",
      "\n",
      "[1 rows x 25 columns]\n",
      "<class 'pandas.core.frame.DataFrame'>\n",
      "RangeIndex: 28627 entries, 0 to 28626\n",
      "Data columns (total 25 columns):\n",
      " #   Column             Non-Null Count  Dtype  \n",
      "---  ------             --------------  -----  \n",
      " 0   account.id         28627 non-null  object \n",
      " 1   no.seats           28627 non-null  int64  \n",
      " 2   price.level        25093 non-null  float64\n",
      " 3   subscription_tier  28627 non-null  float64\n",
      " 4   1993-1994          28627 non-null  int32  \n",
      " 5   1994-1995          28627 non-null  int32  \n",
      " 6   1995-1996          28627 non-null  int32  \n",
      " 7   1996-1997          28627 non-null  int32  \n",
      " 8   1997-1998          28627 non-null  int32  \n",
      " 9   1998-1999          28627 non-null  int32  \n",
      " 10  1999-2000          28627 non-null  int32  \n",
      " 11  2000-2001          28627 non-null  int32  \n",
      " 12  2001-2002          28627 non-null  int32  \n",
      " 13  2002-2003          28627 non-null  int32  \n",
      " 14  2003-2004          28627 non-null  int32  \n",
      " 15  2004-2005          28627 non-null  int32  \n",
      " 16  2005-2006          28627 non-null  int32  \n",
      " 17  2006-2007          28627 non-null  int32  \n",
      " 18  2007-2008          28627 non-null  int32  \n",
      " 19  2008-2009          28627 non-null  int32  \n",
      " 20  2009-2010          28627 non-null  int32  \n",
      " 21  2010-2011          28627 non-null  int32  \n",
      " 22  2011-2012          28627 non-null  int32  \n",
      " 23  2012-2013          28627 non-null  int32  \n",
      " 24  2013-2014          28627 non-null  int32  \n",
      "dtypes: float64(2), int32(21), int64(1), object(1)\n",
      "memory usage: 3.2+ MB\n",
      "None\n",
      "Index(['account.id', 'no.seats', 'price.level', 'subscription_tier',\n",
      "       '1993-1994', '1994-1995', '1995-1996', '1996-1997', '1997-1998',\n",
      "       '1998-1999', '1999-2000', '2000-2001', '2001-2002', '2002-2003',\n",
      "       '2003-2004', '2004-2005', '2005-2006', '2006-2007', '2007-2008',\n",
      "       '2008-2009', '2009-2010', '2010-2011', '2011-2012', '2012-2013',\n",
      "       '2013-2014'],\n",
      "      dtype='object')\n",
      "(28627, 25)\n"
     ]
    }
   ],
   "source": [
    "# do the steps I did above but for a function with an input as the OG subs df\n",
    "def one_hot_seasons(df):\n",
    "    seasons = pd.get_dummies(df['season'])\n",
    "    seasons = seasons.astype(int)\n",
    "    df_temp = df.drop('season', axis=1)\n",
    "    df = pd.concat([df_temp, seasons], axis=1)\n",
    "    return df\n",
    "\n",
    "# test the function\n",
    "subs_df = one_hot_seasons(subs)\n",
    "print(subs_df.head(1))\n",
    "print(subs_df.info())\n",
    "print(subs_df.columns)\n",
    "print(subs_df.shape)"
   ]
  },
  {
   "cell_type": "code",
   "execution_count": 7,
   "metadata": {},
   "outputs": [
    {
     "name": "stdout",
     "output_type": "stream",
     "text": [
      "        account.id     season  package  no.seats           location   \n",
      "0  001i000000LhyR3  2009-2010  Quartet         2      San Francisco  \\\n",
      "1  001i000000NuOeY  2000-2001     Full         2      San Francisco   \n",
      "2  001i000000NuNvb  2001-2002     Full         2  Berkeley Saturday   \n",
      "3  001i000000NuOIz  1993-1994  Quartet         1       Contra Costa   \n",
      "4  001i000000NuNVE  1998-1999     Full         2    Berkeley Sunday   \n",
      "\n",
      "             section  price.level  subscription_tier multiple.subs  \n",
      "0  Premium Orchestra          1.0                1.0            no  \n",
      "1          Orchestra          2.0                2.0            no  \n",
      "2      Balcony Front          3.0                2.0            no  \n",
      "3          Orchestra          2.0                0.5            no  \n",
      "4       Balcony Rear          4.0                2.0            no  \n"
     ]
    }
   ],
   "source": [
    "subs_new = subscriptions.copy()\n",
    "print(subs_new.head())"
   ]
  },
  {
   "cell_type": "code",
   "execution_count": 8,
   "metadata": {},
   "outputs": [
    {
     "name": "stdout",
     "output_type": "stream",
     "text": [
      "Index(['1993-1994', '1994-1995', '1995-1996', '1996-1997', '1997-1998',\n",
      "       '1998-1999', '1999-2000', '2000-2001', '2001-2002', '2002-2003',\n",
      "       '2003-2004', '2004-2005', '2005-2006', '2006-2007', '2007-2008',\n",
      "       '2008-2009', '2009-2010', '2010-2011', '2011-2012', '2012-2013',\n",
      "       '2013-2014'],\n",
      "      dtype='object', name='season')\n"
     ]
    }
   ],
   "source": [
    "# take season and pivot it so that each column has a season and each row has an account.id\n",
    "# then fill in the values with the number of subscriptions for that season\n",
    "subs_pivot = subs_new.pivot_table(index='account.id', columns='season', values='subscription_tier', aggfunc='max')\n",
    "# fill nans with 0\n",
    "subs_pivot = subs_pivot.fillna(0)\n",
    "# print(subs_pivot.head())\n",
    "print(subs_pivot.columns)"
   ]
  },
  {
   "cell_type": "code",
   "execution_count": 13,
   "metadata": {},
   "outputs": [
    {
     "name": "stdout",
     "output_type": "stream",
     "text": [
      "        account.id shipping.zip.code billing.zip.code  shipping.city   \n",
      "0  001i000000LhSrQ             94102            94102  San Francisco  \\\n",
      "1  001i000000LhyPD               NaN            94303            NaN   \n",
      "2  001i000000LhyPE               NaN            94597            NaN   \n",
      "3  001i000000LhyPF               NaN            94610            NaN   \n",
      "4  001i000000LhyPG               NaN            94024            NaN   \n",
      "\n",
      "    billing.city relationship  amount.donated.2013  amount.donated.lifetime   \n",
      "0  San Francisco          NaN                  0.0                      0.0  \\\n",
      "1      Palo Alto          NaN                  0.0                    500.0   \n",
      "2   Walnut Creek          NaN                  0.0                    783.0   \n",
      "3        Oakland          NaN               1500.0                  28435.0   \n",
      "4      Los Altos          NaN                300.0                   4969.0   \n",
      "\n",
      "   no.donations.lifetime        first.donated  \n",
      "0                      0                  NaN  \n",
      "1                      5  1987-07-04 00:00:00  \n",
      "2                      7  2008-06-02 00:00:00  \n",
      "3                     28  1986-07-04 00:00:00  \n",
      "4                     16  1997-04-07 00:00:00  \n",
      "account.id                  object\n",
      "shipping.zip.code           object\n",
      "billing.zip.code            object\n",
      "shipping.city               object\n",
      "billing.city                object\n",
      "relationship                object\n",
      "amount.donated.2013        float64\n",
      "amount.donated.lifetime    float64\n",
      "no.donations.lifetime        int64\n",
      "first.donated               object\n",
      "dtype: object\n"
     ]
    }
   ],
   "source": [
    "account_df = pd.read_csv('../data/account.csv', encoding_errors='ignore')\n",
    "print(account_df.head())\n",
    "print(account_df.dtypes)"
   ]
  },
  {
   "cell_type": "code",
   "execution_count": 15,
   "metadata": {},
   "outputs": [
    {
     "name": "stdout",
     "output_type": "stream",
     "text": [
      "account.id                  object\n",
      "shipping.zip.code           object\n",
      "billing.zip.code           float64\n",
      "shipping.city               object\n",
      "billing.city                object\n",
      "relationship                object\n",
      "amount.donated.2013        float64\n",
      "amount.donated.lifetime    float64\n",
      "no.donations.lifetime        int64\n",
      "first.donated               object\n",
      "dtype: object\n"
     ]
    }
   ],
   "source": [
    "# convert billing zip code to numeric\n",
    "account_df['billing.zip.code'] = pd.to_numeric(account_df['billing.zip.code'], errors='coerce')\n",
    "print(account_df.dtypes)"
   ]
  },
  {
   "cell_type": "code",
   "execution_count": 21,
   "metadata": {},
   "outputs": [
    {
     "name": "stdout",
     "output_type": "stream",
     "text": [
      "        account.id price.level  no.seats      marketing.source     season   \n",
      "0  001i000000NuOP0           4         2                   NaN  2012-2013  \\\n",
      "1  001i000000NuOYU           1         1                 Other  2013-2014   \n",
      "2  001i000000NuRS9           4         2                   NaN  2011-2012   \n",
      "3  001i000000NuRPj           3         1  Postcard or brochure  2013-2014   \n",
      "4  001i000000NuRQ1           2         2                   NaN  2013-2014   \n",
      "\n",
      "            location  set multiple.tickets  \n",
      "0      San Francisco  4.0               no  \n",
      "1    Berkeley Sunday  6.0               no  \n",
      "2     Family concert  3.0               no  \n",
      "3  Berkeley Saturday  2.0               no  \n",
      "4  Berkeley Saturday  1.0               no  \n",
      "account.id           object\n",
      "price.level          object\n",
      "no.seats              int64\n",
      "marketing.source     object\n",
      "season               object\n",
      "location             object\n",
      "set                 float64\n",
      "multiple.tickets     object\n",
      "dtype: object\n"
     ]
    }
   ],
   "source": [
    "tickets_all = pd.read_csv('../data/tickets_all.csv')\n",
    "print(tickets_all.head())\n",
    "print(tickets_all.dtypes)\n",
    "# turn price.level to numeric\n",
    "tickets_all['price.level'] = pd.to_numeric(tickets_all['price.level'], errors='coerce')"
   ]
  },
  {
   "cell_type": "code",
   "execution_count": 24,
   "metadata": {},
   "outputs": [
    {
     "name": "stdout",
     "output_type": "stream",
     "text": [
      "location         Berkeley Saturday  Berkeley Sunday  Contra Costa   \n",
      "account.id                                                          \n",
      "001i000000LhyPd                0.0              0.0           0.0  \\\n",
      "001i000000LhyPj                0.0              0.0           0.0   \n",
      "001i000000LhyQD                0.0              0.0           0.0   \n",
      "001i000000LhyQO                1.0              0.0           0.0   \n",
      "001i000000LhyQr                0.0              0.0           0.0   \n",
      "\n",
      "location         Family concert  Peninsula  San Francisco  \n",
      "account.id                                                 \n",
      "001i000000LhyPd             1.0        0.0            0.0  \n",
      "001i000000LhyPj             0.0        1.0            0.0  \n",
      "001i000000LhyQD             0.0        1.0            0.0  \n",
      "001i000000LhyQO             0.0        0.0            0.0  \n",
      "001i000000LhyQr             0.0        0.0            3.0  \n",
      "Index(['Berkeley Saturday', 'Berkeley Sunday', 'Contra Costa',\n",
      "       'Family concert', 'Peninsula', 'San Francisco'],\n",
      "      dtype='object', name='location')\n",
      "(2027, 6)\n",
      "set              1.0  2.0  3.0  4.0  5.0  6.0  7.0  8.0\n",
      "account.id                                             \n",
      "001i000000LhyPd  0.0  0.0  0.0  0.0  0.0  0.0  0.0  0.0\n",
      "001i000000LhyPj  1.0  0.0  0.0  0.0  0.0  0.0  0.0  0.0\n",
      "001i000000LhyQD  0.0  0.0  0.0  1.0  0.0  0.0  0.0  0.0\n",
      "001i000000LhyQO  0.0  0.0  0.0  1.0  0.0  0.0  0.0  0.0\n",
      "001i000000LhyQr  0.0  0.0  0.0  0.0  2.0  1.0  0.0  0.0\n",
      "Index([1.0, 2.0, 3.0, 4.0, 5.0, 6.0, 7.0, 8.0], dtype='float64', name='set')\n",
      "season           2010-2011  2011-2012  2012-2013  2013-2014\n",
      "account.id                                                 \n",
      "001i000000LhyPd        0.0        0.0        1.0        0.0\n",
      "001i000000LhyPj        0.0        0.0        1.0        0.0\n",
      "001i000000LhyQD        1.0        0.0        0.0        0.0\n",
      "001i000000LhyQO        0.0        1.0        0.0        0.0\n",
      "001i000000LhyQj        1.0        0.0        0.0        0.0\n",
      "Index(['2010-2011', '2011-2012', '2012-2013', '2013-2014'], dtype='object', name='season')\n"
     ]
    }
   ],
   "source": [
    "## make a pivot table for the location of the tickets_all per account\n",
    "# each location will be a column and each row will be an account.id\n",
    "# the values will be the number of tickets for that account at that location\n",
    "tickets_pivot = tickets_all.pivot_table(index='account.id', columns='location', values='no.seats', aggfunc='count')\n",
    "# fill nans with 0\n",
    "tickets_pivot = tickets_pivot.fillna(0)\n",
    "print(tickets_pivot.head())\n",
    "print(tickets_pivot.columns)\n",
    "print(tickets_pivot.shape)\n",
    "\n",
    "# now make a pivot table for which set they went to\n",
    "# each set will be a column and each row will be an account.id\n",
    "# the values will be the price level of tickets for that account at that set\n",
    "set_pivot = tickets_all.pivot_table(index='account.id', columns='set', values='price.level', aggfunc='count')\n",
    "# fill nans with 0\n",
    "set_pivot = set_pivot.fillna(0)\n",
    "print(set_pivot.head())\n",
    "print(set_pivot.columns)\n",
    "\n",
    "# now make a pivot table for each season they have tickets for\n",
    "# each season will be a column and each row will be an account.id\n",
    "# the values will be the number of tickets for that account for that season\n",
    "season_pivot = tickets_all.pivot_table(index='account.id', columns='season', values='no.seats', aggfunc='count')\n",
    "# fill nans with 0\n",
    "season_pivot = season_pivot.fillna(0)\n",
    "print(season_pivot.head())\n",
    "print(season_pivot.columns)\n"
   ]
  },
  {
   "cell_type": "code",
   "execution_count": 25,
   "metadata": {},
   "outputs": [
    {
     "name": "stdout",
     "output_type": "stream",
     "text": [
      "                 2010-2011  2011-2012  2012-2013  2013-2014  1.0  2.0  3.0   \n",
      "account.id                                                                   \n",
      "001i000000LhyPd        0.0        0.0        1.0        0.0  0.0  0.0  0.0  \\\n",
      "001i000000LhyPj        0.0        0.0        1.0        0.0  1.0  0.0  0.0   \n",
      "001i000000LhyQD        1.0        0.0        0.0        0.0  0.0  0.0  0.0   \n",
      "001i000000LhyQO        0.0        1.0        0.0        0.0  0.0  0.0  0.0   \n",
      "001i000000LhyQr        1.0        0.0        2.0        0.0  0.0  0.0  0.0   \n",
      "\n",
      "                 4.0  5.0  6.0  7.0  8.0  Berkeley Saturday  Berkeley Sunday   \n",
      "account.id                                                                     \n",
      "001i000000LhyPd  0.0  0.0  0.0  0.0  0.0                0.0              0.0  \\\n",
      "001i000000LhyPj  0.0  0.0  0.0  0.0  0.0                0.0              0.0   \n",
      "001i000000LhyQD  1.0  0.0  0.0  0.0  0.0                0.0              0.0   \n",
      "001i000000LhyQO  1.0  0.0  0.0  0.0  0.0                1.0              0.0   \n",
      "001i000000LhyQr  0.0  2.0  1.0  0.0  0.0                0.0              0.0   \n",
      "\n",
      "                 Contra Costa  Family concert  Peninsula  San Francisco  \n",
      "account.id                                                               \n",
      "001i000000LhyPd           0.0             1.0        0.0            0.0  \n",
      "001i000000LhyPj           0.0             0.0        1.0            0.0  \n",
      "001i000000LhyQD           0.0             0.0        1.0            0.0  \n",
      "001i000000LhyQO           0.0             0.0        0.0            0.0  \n",
      "001i000000LhyQr           0.0             0.0        0.0            3.0  \n",
      "Index([        '2010-2011',         '2011-2012',         '2012-2013',\n",
      "               '2013-2014',                 1.0,                 2.0,\n",
      "                       3.0,                 4.0,                 5.0,\n",
      "                       6.0,                 7.0,                 8.0,\n",
      "       'Berkeley Saturday',   'Berkeley Sunday',      'Contra Costa',\n",
      "          'Family concert',         'Peninsula',     'San Francisco'],\n",
      "      dtype='object')\n",
      "(2020, 18)\n"
     ]
    }
   ],
   "source": [
    "# merge these pivot tables, season, set, and tickets pivot with each other\n",
    "# the 3 pivot tables are all the same shape so I can just merge them all together\n",
    "# first merge season and set\n",
    "season_set = pd.merge(season_pivot, set_pivot, on='account.id')\n",
    "\n",
    "# then merge season_set with tickets pivot\n",
    "all_tickets = pd.merge(season_set, tickets_pivot, on='account.id')\n",
    "\n",
    "# print\n",
    "print(all_tickets.head())\n",
    "print(all_tickets.columns)\n",
    "print(all_tickets.shape)\n",
    "\n"
   ]
  },
  {
   "cell_type": "code",
   "execution_count": null,
   "metadata": {},
   "outputs": [],
   "source": []
  }
 ],
 "metadata": {
  "kernelspec": {
   "display_name": "Python 3",
   "language": "python",
   "name": "python3"
  },
  "language_info": {
   "codemirror_mode": {
    "name": "ipython",
    "version": 3
   },
   "file_extension": ".py",
   "mimetype": "text/x-python",
   "name": "python",
   "nbconvert_exporter": "python",
   "pygments_lexer": "ipython3",
   "version": "3.10.10"
  }
 },
 "nbformat": 4,
 "nbformat_minor": 2
}
